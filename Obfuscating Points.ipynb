{
 "cells": [
  {
   "cell_type": "markdown",
   "metadata": {},
   "source": [
    "# Benchmarking Location Privacy\n",
    "#### Franklin Harvey\n",
    "\n",
    "## Question\n",
    "With regards to privacy I wanted to answer the question \"Is it better to truncate the precision of a geospatial point, or to randomly move that point to a nearby location?\"\n",
    "\n",
    "With both approaches we can define how far we would like to move a point. By truncating to 2 decimal places we likely move a point nearly 1km. By fuzzing we can define a radius in which to replace the point, so it will move by at-most that radius.\n",
    "\n",
    "\n",
    "## Obfuscation\n",
    "How do we define obfuscation? What is a \"good\" level of obfuscation and what is a \"bad\" level.\n",
    "\n",
    "A good level of obfuscation could loosely be defined as \"this location is not the original location\". Put from a user's perspective: \"This dot that represents me is not at my house\".\n",
    "\n",
    "Our legal department has defined **1km** as a good distance away. So I'll use this definition:\n",
    "\n",
    "*A good level of obfuscation is for a point to be a kilometer away from its original location*"
   ]
  },
  {
   "cell_type": "code",
   "execution_count": 104,
   "metadata": {},
   "outputs": [],
   "source": [
    "import random\n",
    "from math import radians, cos, sin, pi, sqrt, atan2, trunc\n",
    "import statistics\n",
    "\n",
    "def h_getFuzzedLocation(latLng, radius, roundDecimals = 5):\n",
    "    lat = latLng[0]\n",
    "    lng = latLng[1]\n",
    "    radiusInDegrees = radius / 111000\n",
    "    \n",
    "    u = random.random()\n",
    "    v = random.random()\n",
    "    \n",
    "    w = radiusInDegrees * sqrt(u)\n",
    "    t = 2 * pi * v\n",
    "    x = w * cos(t)\n",
    "    y = w * sin(t)\n",
    "\n",
    "    new_x = x / cos(radians(lat))\n",
    "\n",
    "    foundLongitude = round(new_x + lng, roundDecimals)\n",
    "    foundLatitude = round(y + lat, roundDecimals)\n",
    "    return [foundLatitude, foundLongitude]\n",
    "\n",
    "def fuzz(distance):\n",
    "    return lambda x: h_getFuzzedLocation(x, distance)\n",
    "\n",
    "class color:\n",
    "   PURPLE = '\\033[95m'\n",
    "   CYAN = '\\033[96m'\n",
    "   DARKCYAN = '\\033[36m'\n",
    "   BLUE = '\\033[94m'\n",
    "   GREEN = '\\033[92m'\n",
    "   YELLOW = '\\033[93m'\n",
    "   RED = '\\033[91m'\n",
    "   BOLD = '\\033[1m'\n",
    "   UNDERLINE = '\\033[4m'\n",
    "   END = '\\033[0m'"
   ]
  },
  {
   "cell_type": "code",
   "execution_count": 105,
   "metadata": {},
   "outputs": [],
   "source": [
    "def getRandomCoordinate(minLat = -180, minLong = -180, maxLat = 180, maxLong = 180):\n",
    "    lat = random.randrange(minLat, maxLat)\n",
    "    lat = round(lat + random.random(), 5)\n",
    "    long = random.randrange(minLong, maxLong)\n",
    "    long = round(long + random.random(), 5)\n",
    "    return [lat, long]\n",
    "\n",
    "def getDistanceInKM(point1, point2):\n",
    "    R = 6373.0\n",
    "\n",
    "    lat1 = radians(point1[0])\n",
    "    lon1 = radians(point1[1])\n",
    "    lat2 = radians(point2[0])\n",
    "    lon2 = radians(point2[1])\n",
    "\n",
    "    dlon = lon2 - lon1\n",
    "    dlat = lat2 - lat1\n",
    "\n",
    "    a = sin(dlat / 2)**2 + cos(lat1) * cos(lat2) * sin(dlon / 2)**2\n",
    "    c = 2 * atan2(sqrt(a), sqrt(1 - a))\n",
    "\n",
    "    return R * c\n",
    "\n",
    "assert getDistanceInKM([40, -105], [0,0]) == 11282.668188434473"
   ]
  },
  {
   "cell_type": "markdown",
   "metadata": {},
   "source": [
    "## Fuzzing Once"
   ]
  },
  {
   "cell_type": "code",
   "execution_count": 113,
   "metadata": {},
   "outputs": [
    {
     "name": "stdout",
     "output_type": "stream",
     "text": [
      "Mean distance (m): 1004.0932315341156\n",
      "Minimum distance (m): 10.07809205869212\n",
      "\u001b[1m\u001b[92mStd. Dev (m): 354.4121067934031\u001b[0m\n"
     ]
    }
   ],
   "source": [
    "fuzzOneRandomCoords = [getRandomCoordinate() for n in range(100000)]\n",
    "fuzzOneFuzzedCoords = list(map(fuzz(1500), fuzzOneRandomCoords))\n",
    "fuzzOneDistances = []\n",
    "for i in range(len(fuzzOneFuzzedCoords)):\n",
    "    fuzzOneDistances.append(getDistanceInKM(fuzzOneFuzzedCoords[i], fuzzOneRandomCoords[i]))\n",
    "\n",
    "print(\"Mean distance (m): \" + str(statistics.mean(fuzzOneDistances) * 1000))\n",
    "print(\"Minimum distance (m): \" + str(min(fuzzOneDistances) * 1000))\n",
    "print(color.BOLD + color.GREEN + \"Std. Dev (m): \" + str(statistics.stdev(fuzzOneDistances) * 1000) + color.END)"
   ]
  },
  {
   "cell_type": "markdown",
   "metadata": {},
   "source": [
    "If we fuzz with a radius of 1500 meters we can expect an average distance of **1km** with a standard deviation of **~354m**.\n",
    "\n",
    "My next question is what is better, to fuzz once with a large radius, or to fuzz many times with a small radius? Keep in mind that as you fuzz many times you start to emulate a [random walk](https://en.wikipedia.org/wiki/Random_walk) algorithm. This is not exactly what we want as it is computationally expensive. We are after final random points, not their journeys."
   ]
  },
  {
   "cell_type": "markdown",
   "metadata": {},
   "source": [
    "## Fuzzing 300 times"
   ]
  },
  {
   "cell_type": "code",
   "execution_count": 107,
   "metadata": {},
   "outputs": [
    {
     "name": "stdout",
     "output_type": "stream",
     "text": [
      "Mean distance (m): 1089.0350270391514\n",
      "Minimum distance (m): 3.656755547527371\n",
      "Std. Dev (m): 567.2968696504396\n"
     ]
    }
   ],
   "source": [
    "fuzzManyRandomCoords = [getRandomCoordinate() for n in range(100000)]\n",
    "numberOfFuzzing = 300\n",
    "fuzzManyFuzzedCoords = fuzzManyRandomCoords.copy()\n",
    "for i in range(numberOfFuzzing):\n",
    "    fuzzManyFuzzedCoords = list(map(fuzz(100), fuzzManyFuzzedCoords)).copy()\n",
    "\n",
    "fuzzManyDistances = []\n",
    "for i in range(len(fuzzManyFuzzedCoords)):\n",
    "    fuzzManyDistances.append(getDistanceInKM(fuzzManyFuzzedCoords[i], fuzzManyRandomCoords[i]))\n",
    "\n",
    "print(\"Mean distance (m): \" + str(statistics.mean(fuzzManyDistances) * 1000))\n",
    "print(\"Minimum distance (m): \" + str(min(fuzzManyDistances) * 1000))\n",
    "print(\"Std. Dev (m): \" + str(statistics.stdev(fuzzManyDistances) * 1000))"
   ]
  },
  {
   "cell_type": "markdown",
   "metadata": {},
   "source": [
    "By fuzzing by only **100m**, but doing so 300 times to every point, we get a similar level of fuzzing but with a much higher standard deviation. ~This is only running with 1/10 the number of points and is much slower~ This is **much** slower. I think this is good evidence that fuzzing once by a large radius is a better model for randomizing points than many times with a smaller radius."
   ]
  },
  {
   "cell_type": "markdown",
   "metadata": {},
   "source": [
    "## Fuzzing ~10 times"
   ]
  },
  {
   "cell_type": "code",
   "execution_count": 112,
   "metadata": {},
   "outputs": [
    {
     "name": "stdout",
     "output_type": "stream",
     "text": [
      "Mean distance (m): 1092.038901855915\n",
      "Minimum distance (m): 2.466323117157584\n",
      "Std. Dev (m): 559.3622103735389\n"
     ]
    }
   ],
   "source": [
    "fuzz10TimesRandomCoords = [getRandomCoordinate() for n in range(100000)]\n",
    "numberOfFuzzing = 12\n",
    "fuzz10TimesFuzzedCoords = fuzz10TimesRandomCoords.copy()\n",
    "for i in range(numberOfFuzzing):\n",
    "    fuzz10TimesFuzzedCoords = list(map(fuzz(500), fuzz10TimesFuzzedCoords)).copy()\n",
    "\n",
    "fuzz10TimesDistances = []\n",
    "for i in range(len(fuzz10TimesFuzzedCoords)):\n",
    "    fuzz10TimesDistances.append(getDistanceInKM(fuzz10TimesFuzzedCoords[i], fuzz10TimesRandomCoords[i]))\n",
    "\n",
    "print(\"Mean distance (m): \" + str(statistics.mean(fuzz10TimesDistances) * 1000))\n",
    "print(\"Minimum distance (m): \" + str(min(fuzz10TimesDistances) * 1000))\n",
    "print(\"Std. Dev (m): \" + str(statistics.stdev(fuzz10TimesDistances) * 1000))"
   ]
  },
  {
   "cell_type": "markdown",
   "metadata": {},
   "source": [
    "## Truncating to 2 decimal places"
   ]
  },
  {
   "cell_type": "code",
   "execution_count": 114,
   "metadata": {},
   "outputs": [],
   "source": [
    "def truncatePoint(point, digits = 2) -> float:\n",
    "    stepper = 10.0 ** digits\n",
    "    lat = trunc(stepper * point[0]) / stepper\n",
    "    long = trunc(stepper * point[1]) / stepper\n",
    "    return [lat, long]\n",
    "\n",
    "assert truncatePoint([0.1134, 38.4328946792], 2) == [0.11, 38.43]\n",
    "assert truncatePoint([-0.99, -100.92], 1) == [-0.9, -100.9]\n",
    "assert truncatePoint([-1, 1], 1.5) == [-0.9803060746521977, 0.9803060746521977]"
   ]
  },
  {
   "cell_type": "code",
   "execution_count": 115,
   "metadata": {},
   "outputs": [
    {
     "name": "stdout",
     "output_type": "stream",
     "text": [
      "Mean distance (m): 719.3308256754173\n",
      "Minimum distance (m): 0.0\n",
      "Std. Dev (m): 315.7683464767136\n"
     ]
    }
   ],
   "source": [
    "truncRandomCoords = [getRandomCoordinate() for n in range(100000)]\n",
    "truncFuzzedCoords = list(map(truncatePoint, truncRandomCoords))\n",
    "\n",
    "truncDistances = []\n",
    "for i in range(len(truncFuzzedCoords)):\n",
    "    truncDistances.append(getDistanceInKM(truncFuzzedCoords[i], truncRandomCoords[i]))\n",
    "\n",
    "print(\"Mean distance (m): \" + str(statistics.mean(truncDistances) * 1000))\n",
    "print(\"Minimum distance (m): \" + str(min(truncDistances) * 1000))\n",
    "print(\"Std. Dev (m): \" + str(statistics.stdev(truncDistances) * 1000))"
   ]
  },
  {
   "cell_type": "markdown",
   "metadata": {},
   "source": [
    "## \"Truncating\" to 1.8 decimal places\n",
    "I know this is crazy but its a good approximation for how we could truncate and get close to a 1km average distance"
   ]
  },
  {
   "cell_type": "code",
   "execution_count": 116,
   "metadata": {},
   "outputs": [
    {
     "name": "stdout",
     "output_type": "stream",
     "text": [
      "Mean distance (m): 1017.1940771903874\n",
      "Minimum distance (m): 0.1653086975543589\n",
      "Std. Dev (m): 446.9491031657912\n"
     ]
    }
   ],
   "source": [
    "def truncatePointX(point):\n",
    "    return truncatePoint(point, 1.85)\n",
    "\n",
    "truncBenchRandomCoords = [getRandomCoordinate() for n in range(100000)]\n",
    "truncBenchFuzzedCoords = list(map(truncatePointX, truncBenchRandomCoords))\n",
    "\n",
    "truncBenchDistances = []\n",
    "for i in range(len(truncBenchFuzzedCoords)):\n",
    "    truncBenchDistances.append(getDistanceInKM(truncBenchFuzzedCoords[i], truncBenchRandomCoords[i]))\n",
    "\n",
    "print(\"Mean distance (m): \" + str(statistics.mean(truncBenchDistances) * 1000))\n",
    "print(\"Minimum distance (m): \" + str(min(truncBenchDistances) * 1000))\n",
    "print(\"Std. Dev (m): \" + str(statistics.stdev(truncBenchDistances) * 1000))"
   ]
  },
  {
   "cell_type": "markdown",
   "metadata": {},
   "source": [
    "## Looking at the data\n",
    "\n",
    "Below are some visualizations meant to help describe what is happening with these different approaches. The key takeaways are:\n",
    "\n",
    "- Fuzzing once does not give a uniform distribution of distances. Points are more likely to fall near the radius than at the center\n",
    "- Fuzzing many times, even if as few as 10 times, gives a much more uniform distribution. This is good as it makes points less predictable, and there is less of a \"hard-stop\" or an outer ring to look for.\n",
    "- Truncating leaves more points closer to its origin than any of the fuzzing techniques"
   ]
  },
  {
   "cell_type": "code",
   "execution_count": 120,
   "metadata": {},
   "outputs": [
    {
     "data": {
      "image/png": "[encoded data removed]",
      "text/plain": [
       "<Figure size 720x576 with 1 Axes>"
      ]
     },
     "metadata": {
      "needs_background": "light"
     },
     "output_type": "display_data"
    },
    {
     "data": {
      "image/png": "[encoded data removed]",
      "text/plain": [
       "<Figure size 720x576 with 1 Axes>"
      ]
     },
     "metadata": {
      "needs_background": "light"
     },
     "output_type": "display_data"
    }
   ],
   "source": [
    "import matplotlib.pyplot as plt\n",
    "\n",
    "assert len(fuzzOneDistances) == len(fuzzManyDistances) == len(truncDistances) == len(truncBenchDistances)\n",
    "\n",
    "plt.figure(figsize=(10,8))\n",
    "plt.hist(fuzzManyDistances, bins=100, alpha=0.5, label=\"Fuzz 300 Times\")\n",
    "plt.hist(fuzz10TimesDistances, bins=100, alpha=0.5, label=\"Fuzz 10\")\n",
    "plt.hist(fuzzOneDistances, bins=100, alpha=0.9, label=\"Fuzz Once\")\n",
    "\n",
    "plt.title(\"Distance from original location by fuzzing\")\n",
    "plt.xlabel(\"Distance (km)\", size=14)\n",
    "plt.ylabel(\"Count\", size=14)\n",
    "plt.legend(loc='upper right')\n",
    "plt.show()\n",
    "\n",
    "plt.figure(figsize=(10,8))\n",
    "plt.hist(truncDistances, bins=100, alpha=0.5, label=\"Truncate 2 Dec.\")\n",
    "plt.hist(truncBenchDistances, bins=100, alpha=0.5, label=\"Truncate 1.8 Dec.\")\n",
    "plt.title(\"Distance from original location by truncating\")\n",
    "plt.xlabel(\"Distance (km)\", size=14)\n",
    "plt.ylabel(\"Count\", size=14)\n",
    "plt.legend(loc='upper right')\n",
    "plt.show()"
   ]
  },
  {
   "cell_type": "code",
   "execution_count": 118,
   "metadata": {},
   "outputs": [
    {
     "name": "stdout",
     "output_type": "stream",
     "text": [
      "Percent less than 100m away from original\n",
      "Fuzz once:  0.42100000000000004 %\n",
      "Fuzz 10 times:  0.5950000000000001 %\n",
      "Fuzz 300 times:  0.675 %\n",
      "Trunc to 2 dec places:  1.706 %\n",
      "Trunc to 1.8 dec places:  1.0619999999999998 %\n",
      "\n",
      "Percent less than 300m away from original\n",
      "Fuzz once:  3.9919999999999995 %\n",
      "Fuzz 10 times:  5.66 %\n",
      "Fuzz 300 times:  5.753 %\n",
      "Trunc to 2 dec places:  11.628 %\n",
      "Trunc to 1.8 dec places:  6.385000000000001 %\n",
      "\n",
      "Percent less than 500m away from original\n",
      "Fuzz once:  10.997 %\n",
      "Fuzz 10 times:  15.046000000000001 %\n",
      "Fuzz 300 times:  15.229000000000001 %\n",
      "Trunc to 2 dec places:  27.198 %\n",
      "Trunc to 1.8 dec places:  15.292 %\n",
      "\n",
      "Percent less than 1000m away from original\n",
      "Fuzz once:  43.946000000000005 %\n",
      "Fuzz 10 times:  47.658 %\n",
      "Fuzz 300 times:  48.252 %\n",
      "\u001b[1m\u001b[91mTrunc to 2 dec places:  78.18 %\u001b[0m\n",
      "Trunc to 1.8 dec places:  46.739000000000004 %\n"
     ]
    }
   ],
   "source": [
    "def lessThanDistace(distance):\n",
    "    return lambda x: x*1000 < distance\n",
    "\n",
    "print(\"Percent less than 100m away from original\")\n",
    "print(\"Fuzz once: \", str(len(list(filter(lessThanDistace(100), fuzzOneDistances))) / len(fuzzOneDistances) * 100), \"%\")\n",
    "print(\"Fuzz 10 times: \", str(len(list(filter(lessThanDistace(100), fuzz10TimesDistances))) / len(fuzz10TimesDistances) * 100), \"%\")\n",
    "print(\"Fuzz 300 times: \", str(len(list(filter(lessThanDistace(100), fuzzManyDistances))) / len(fuzzManyDistances) * 100), \"%\")\n",
    "print(\"Trunc to 2 dec places: \", str(len(list(filter(lessThanDistace(100), truncDistances))) / len(truncDistances) * 100), \"%\")\n",
    "print(\"Trunc to 1.8 dec places: \", str(len(list(filter(lessThanDistace(100), truncBenchDistances))) / len(truncBenchDistances) * 100), \"%\")\n",
    "print()\n",
    "print(\"Percent less than 300m away from original\")\n",
    "print(\"Fuzz once: \", str(len(list(filter(lessThanDistace(300), fuzzOneDistances))) / len(fuzzOneDistances) * 100), \"%\")\n",
    "print(\"Fuzz 10 times: \", str(len(list(filter(lessThanDistace(300), fuzz10TimesDistances))) / len(fuzz10TimesDistances) * 100), \"%\")\n",
    "print(\"Fuzz 300 times: \", str(len(list(filter(lessThanDistace(300), fuzzManyDistances))) / len(fuzzManyDistances) * 100), \"%\")\n",
    "print(\"Trunc to 2 dec places: \", str(len(list(filter(lessThanDistace(300), truncDistances))) / len(truncDistances) * 100), \"%\")\n",
    "print(\"Trunc to 1.8 dec places: \", str(len(list(filter(lessThanDistace(300), truncBenchDistances))) / len(truncBenchDistances) * 100), \"%\")\n",
    "print()\n",
    "print(\"Percent less than 500m away from original\")\n",
    "print(\"Fuzz once: \", str(len(list(filter(lessThanDistace(500), fuzzOneDistances))) / len(fuzzOneDistances) * 100), \"%\")\n",
    "print(\"Fuzz 10 times: \", str(len(list(filter(lessThanDistace(500), fuzz10TimesDistances))) / len(fuzz10TimesDistances) * 100), \"%\")\n",
    "print(\"Fuzz 300 times: \", str(len(list(filter(lessThanDistace(500), fuzzManyDistances))) / len(fuzzManyDistances) * 100), \"%\")\n",
    "print(\"Trunc to 2 dec places: \", str(len(list(filter(lessThanDistace(500), truncDistances))) / len(truncDistances) * 100), \"%\")\n",
    "print(\"Trunc to 1.8 dec places: \", str(len(list(filter(lessThanDistace(500), truncBenchDistances))) / len(truncBenchDistances) * 100), \"%\")\n",
    "print()\n",
    "print(\"Percent less than 1000m away from original\")\n",
    "print(\"Fuzz once: \", str(len(list(filter(lessThanDistace(1000), fuzzOneDistances))) / len(fuzzOneDistances) * 100), \"%\")\n",
    "print(\"Fuzz 10 times: \", str(len(list(filter(lessThanDistace(1000), fuzz10TimesDistances))) / len(fuzz10TimesDistances) * 100), \"%\")\n",
    "print(\"Fuzz 300 times: \", str(len(list(filter(lessThanDistace(1000), fuzzManyDistances))) / len(fuzzManyDistances) * 100), \"%\")\n",
    "print(color.BOLD + color.RED + \"Trunc to 2 dec places: \", str(len(list(filter(lessThanDistace(1000), truncDistances))) / len(truncDistances) * 100), \"%\" + color.END)\n",
    "print(\"Trunc to 1.8 dec places: \", str(len(list(filter(lessThanDistace(1000), truncBenchDistances))) / len(truncBenchDistances) * 100), \"%\")\n",
    "\n",
    "# fuzzOneDistances, fuzzManyDistances, truncDistances, truncBenchDistances"
   ]
  }
 ],
 "metadata": {
  "kernelspec": {
   "display_name": "Python 3",
   "language": "python",
   "name": "python3"
  },
  "language_info": {
   "codemirror_mode": {
    "name": "ipython",
    "version": 3
   },
   "file_extension": ".py",
   "mimetype": "text/x-python",
   "name": "python",
   "nbconvert_exporter": "python",
   "pygments_lexer": "ipython3",
   "version": "3.9.0"
  }
 },
 "nbformat": 4,
 "nbformat_minor": 4
}
