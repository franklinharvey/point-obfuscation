{
 "cells": [
  {
   "cell_type": "markdown",
   "metadata": {},
   "source": [
    "# Benchmarking Location Privacy\n",
    "#### Franklin Harvey\n",
    "\n",
    "## Question\n",
    "With regards to privacy I wanted to answer the question \"Is it better to truncate the precision of a geospatial point, or to randomly move that point to a nearby location?\"\n",
    "\n",
    "With both approaches we can define how far we would like to move a point. By truncating to 2 decimal places we likely move a point nearly 1km. By fuzzing we can define a radius in which to replace the point, so it will move by at-most that radius.\n",
    "\n",
    "\n",
    "## Obfuscation\n",
    "How do we define obfuscation? What is a \"good\" level of obfuscation and what is a \"bad\" level.\n",
    "\n",
    "A good level of obfuscation could loosely be defined as \"this location is not the original location\". Put from a user's perspective: \"This dot that represents me is not at my house\".\n",
    "\n",
    "Our legal department has defined **1km** as a good distance away. So I'll use this definition:\n",
    "\n",
    "*A good level of obfuscation is for a point to be a kilometer away from its original location*"
   ]
  },
  {
   "cell_type": "code",
   "execution_count": 7,
   "metadata": {},
   "outputs": [],
   "source": [
    "import random\n",
    "from math import radians, cos, sin, pi, sqrt, atan2, trunc\n",
    "import statistics\n",
    "\n",
    "def h_getFuzzedLocation(latLng, radius, roundDecimals = 5):\n",
    "    lat = latLng[0]\n",
    "    lng = latLng[1]\n",
    "    radiusInDegrees = radius / 111000\n",
    "    \n",
    "    u = random.random()\n",
    "    v = random.random()\n",
    "    \n",
    "    w = radiusInDegrees * sqrt(u)\n",
    "    t = 2 * pi * v\n",
    "    x = w * cos(t)\n",
    "    y = w * sin(t)\n",
    "\n",
    "    new_x = x / cos(radians(lat))\n",
    "\n",
    "    foundLongitude = round(new_x + lng, roundDecimals)\n",
    "    foundLatitude = round(y + lat, roundDecimals)\n",
    "    return [foundLatitude, foundLongitude]\n",
    "\n",
    "def getFuzzedLocationHundredMeters(latLng):\n",
    "    return h_getFuzzedLocation(latLng, 100)\n",
    "    \n",
    "def getFuzzedLocationFifteenHundredMeters(latLng):\n",
    "    return h_getFuzzedLocation(latLng, 1500)\n",
    "    \n",
    "def getFuzzedLocationTenKilometers(latLng):\n",
    "    return h_getFuzzedLocation(latLng, 10000)"
   ]
  },
  {
   "cell_type": "code",
   "execution_count": 8,
   "metadata": {},
   "outputs": [],
   "source": [
    "def getRandomCoordinate(minLat = -180, minLong = -180, maxLat = 180, maxLong = 180):\n",
    "    lat = random.randrange(minLat, maxLat)\n",
    "    lat = round(lat + random.random(), 5)\n",
    "    long = random.randrange(minLong, maxLong)\n",
    "    long = round(long + random.random(), 5)\n",
    "    return [lat, long]\n",
    "\n",
    "def getDistanceInKM(point1, point2):\n",
    "    R = 6373.0\n",
    "\n",
    "    lat1 = radians(point1[0])\n",
    "    lon1 = radians(point1[1])\n",
    "    lat2 = radians(point2[0])\n",
    "    lon2 = radians(point2[1])\n",
    "\n",
    "    dlon = lon2 - lon1\n",
    "    dlat = lat2 - lat1\n",
    "\n",
    "    a = sin(dlat / 2)**2 + cos(lat1) * cos(lat2) * sin(dlon / 2)**2\n",
    "    c = 2 * atan2(sqrt(a), sqrt(1 - a))\n",
    "\n",
    "    return R * c\n",
    "\n",
    "assert getDistanceInKM([40, -105], [0,0]) == 11282.668188434473"
   ]
  },
  {
   "cell_type": "markdown",
   "metadata": {},
   "source": [
    "## Fuzzing Once"
   ]
  },
  {
   "cell_type": "code",
   "execution_count": 11,
   "metadata": {},
   "outputs": [
    {
     "name": "stdout",
     "output_type": "stream",
     "text": [
      "mean distance: 1.0025034488683158\n",
      "Minimum distance (km): 0.005950625713920481\n",
      "Std. Dev: 0.3542985728973543\n"
     ]
    }
   ],
   "source": [
    "randomCoords = [getRandomCoordinate() for n in range(100000)]\n",
    "fuzzedCoords = list(map(getFuzzedLocationFifteenHundredMeters, randomCoords))\n",
    "distances = []\n",
    "for i in range(len(fuzzedCoords)):\n",
    "    distances.append(getDistanceInKM(fuzzedCoords[i], randomCoords[i]))\n",
    "\n",
    "print(\"mean distance: \" + str(statistics.mean(distances)))\n",
    "print(\"Minimum distance (km): \" + str(min(distances)))\n",
    "print(\"Std. Dev: \" + str(statistics.stdev(distances)))"
   ]
  },
  {
   "cell_type": "markdown",
   "metadata": {},
   "source": [
    "If we fuzz with a radius of 1500 meters we can expect an average distance of **1km** with a standard deviation of **~354m**.\n",
    "\n",
    "My next question is what is better, to fuzz once with a large radius, or to fuzz many times with a small radius? Keep in mind that as you fuzz many times you start to emulate a [random walk](https://en.wikipedia.org/wiki/Random_walk) algorithm. This is not exactly what we want as it is computationally expensive. We are after final random points, not their journeys."
   ]
  },
  {
   "cell_type": "markdown",
   "metadata": {},
   "source": [
    "## Fuzzing many times"
   ]
  },
  {
   "cell_type": "code",
   "execution_count": 12,
   "metadata": {},
   "outputs": [
    {
     "name": "stdout",
     "output_type": "stream",
     "text": [
      "mean distance: 1.0902036826233235\n",
      "Minimum distance (km): 0.008044097713950817\n",
      "Std. Dev: 0.5713185911711739\n"
     ]
    }
   ],
   "source": [
    "randomCoords = [getRandomCoordinate() for n in range(10000)]\n",
    "numberOfFuzzing = 300\n",
    "fuzzedCoords = randomCoords.copy()\n",
    "for i in range(numberOfFuzzing):\n",
    "    fuzzedCoords = list(map(getFuzzedLocationHundredMeters, fuzzedCoords)).copy()\n",
    "distances = []\n",
    "for i in range(len(fuzzedCoords)):\n",
    "    distances.append(getDistanceInKM(fuzzedCoords[i], randomCoords[i]))\n",
    "\n",
    "print(\"mean distance: \" + str(statistics.mean(distances)))\n",
    "print(\"Minimum distance (km): \" + str(min(distances)))\n",
    "print(\"Std. Dev: \" + str(statistics.stdev(distances)))"
   ]
  },
  {
   "cell_type": "markdown",
   "metadata": {},
   "source": [
    "By fuzzing by only **100m**, but doing so 300 times to every point, we get a similar level of fuzzing but with a much higher standard deviation. This is only running with 1/10 the number of points and is much slower. I think this is good evidence that fuzzing once by a large radius is a better model for randomizing points than many times with a smaller radius."
   ]
  },
  {
   "cell_type": "markdown",
   "metadata": {},
   "source": [
    "## Truncating"
   ]
  },
  {
   "cell_type": "code",
   "execution_count": 13,
   "metadata": {},
   "outputs": [],
   "source": [
    "def truncatePoint(point, digits = 2) -> float:\n",
    "    stepper = 10.0 ** digits\n",
    "    lat = trunc(stepper * point[0]) / stepper\n",
    "    long = trunc(stepper * point[1]) / stepper\n",
    "    return [lat, long]\n",
    "\n",
    "assert truncatePoint([0.1134, 38.4328946792], 2) == [0.11, 38.43]\n",
    "assert truncatePoint([-0.99, -100.92], 1) == [-0.9, -100.9]"
   ]
  },
  {
   "cell_type": "code",
   "execution_count": 14,
   "metadata": {},
   "outputs": [
    {
     "name": "stdout",
     "output_type": "stream",
     "text": [
      "mean distance: 0.7204556830163453\n",
      "Minimum distance (km): 0.0012515389226051316\n",
      "Std. Dev: 0.31587455843953566\n"
     ]
    }
   ],
   "source": [
    "randomCoords = [getRandomCoordinate() for n in range(100000)]\n",
    "fuzzedCoords = list(map(truncatePoint, randomCoords))\n",
    "\n",
    "distances = []\n",
    "for i in range(len(fuzzedCoords)):\n",
    "    distances.append(getDistanceInKM(fuzzedCoords[i], randomCoords[i]))\n",
    "\n",
    "print(\"mean distance: \" + str(statistics.mean(distances)))\n",
    "print(\"Minimum distance (km): \" + str(min(distances)))\n",
    "print(\"Std. Dev: \" + str(statistics.stdev(distances)))"
   ]
  }
 ],
 "metadata": {
  "kernelspec": {
   "display_name": "Python 3",
   "language": "python",
   "name": "python3"
  },
  "language_info": {
   "codemirror_mode": {
    "name": "ipython",
    "version": 3
   },
   "file_extension": ".py",
   "mimetype": "text/x-python",
   "name": "python",
   "nbconvert_exporter": "python",
   "pygments_lexer": "ipython3",
   "version": "3.9.0"
  }
 },
 "nbformat": 4,
 "nbformat_minor": 4
}
