{
 "cells": [
  {
   "cell_type": "markdown",
   "metadata": {},
   "source": [
    "# Benchmarking Location Privacy\n",
    "#### Franklin Harvey\n",
    "\n",
    "## Question\n",
    "With regards to privacy I wanted to answer the question \"Is it better to truncate the precision of a geospatial point, or to randomly move that point to a nearby location?\"\n",
    "\n",
    "With both approaches we can define how far we would like to move a point. By truncating to 2 decimal places we likely move a point nearly 1km. By fuzzing we can define a radius in which to replace the point, so it will move by at-most that radius.\n",
    "\n",
    "\n",
    "## Obfuscation\n",
    "How do we define obfuscation? What is a \"good\" level of obfuscation and what is a \"bad\" level.\n",
    "\n",
    "A good level of obfuscation could loosely be defined as \"this location is not the original location\". Put from a user's perspective: \"This dot that represents me is not at my house\".\n",
    "\n",
    "Our legal department has defined **1km** as a good distance away. So I'll use this definition:\n",
    "\n",
    "*A good level of obfuscation is for a point to be a kilometer away from its original location*"
   ]
  },
  {
   "cell_type": "code",
   "execution_count": 117,
   "metadata": {},
   "outputs": [],
   "source": [
    "from random import randrange, random\n",
    "from math import radians, cos, sin, pi, sqrt, atan2, trunc, floor\n",
    "import statistics\n",
    "from geopy.distance import distance\n",
    "\n",
    "def h_getFuzzedLocation(latLng, radius, roundDecimals = 5):\n",
    "    lat = latLng[0]\n",
    "    lng = latLng[1]\n",
    "    radiusInDegrees = radius / 111000\n",
    "    \n",
    "    u = random()\n",
    "    v = random()\n",
    "    \n",
    "    w = radiusInDegrees * sqrt(u)\n",
    "    t = 2 * pi * v\n",
    "    x = w * cos(t)\n",
    "    y = w * sin(t)\n",
    "\n",
    "    new_x = x / cos(radians(lat))\n",
    "\n",
    "    foundLongitude = round(new_x + lng, roundDecimals)\n",
    "    foundLatitude = round(y + lat, roundDecimals)\n",
    "    coords = wrap(foundLatitude, foundLongitude)\n",
    "    return [coords[\"lat\"], coords[\"lon\"]]\n",
    "\n",
    "def fuzz(distance):\n",
    "    return lambda x: h_getFuzzedLocation(x, distance)\n",
    "\n",
    "\n",
    "# https://gist.github.com/missinglink/d0a085188a8eab2ca66db385bb7c023a\n",
    "def wrap( lat, lon ):\n",
    "    point = { \"lat\": lat, \"lon\": lon }\n",
    "    quadrant = floor( abs( lat ) / 90) % 4\n",
    "    pole = 90 if lat > 0 else -90\n",
    "    offset = lat - trunc(lat/90) * 90 # TIL modulo is different in python than JS\n",
    "\n",
    "    if quadrant == 0:\n",
    "        point[\"lat\"] = offset\n",
    "    elif quadrant == 1:\n",
    "        point[\"lat\"] = pole - offset\n",
    "        point[\"lon\"] += 180\n",
    "    elif quadrant == 2:\n",
    "        point[\"lat\"] = -1 * offset\n",
    "        point[\"lon\"] += 180\n",
    "    elif quadrant == 3:\n",
    "        point[\"lat\"] = (-1 * pole) + offset\n",
    "\n",
    "    if point[\"lon\"] > 180 or point[\"lon\"] < -180:\n",
    "        point[\"lon\"] -= floor(( point[\"lon\"] + 180 ) / 360) * 360\n",
    "\n",
    "    return point\n",
    "\n",
    "assert wrap(55.555, 22.222) == {\"lat\": 55.555, \"lon\": 22.222}\n",
    "\n",
    "assert wrap(1, 0) == {\"lat\": 1, \"lon\": 0}\n",
    "assert wrap(91, 0) == {\"lat\": 89, \"lon\": 180}\n",
    "assert wrap(181, 0) == {\"lat\": -1, \"lon\": 180}\n",
    "assert wrap(271, 0) == {\"lat\": -89, \"lon\": 0}\n",
    "assert wrap(361, 0) == {\"lat\": 1, \"lon\": 0}\n",
    "assert wrap(631, 0) == {\"lat\": -89, \"lon\": 0}\n",
    "assert wrap(721, 0) == {\"lat\": 1, \"lon\": 0}\n",
    "\n",
    "assert wrap(-1, 0) == {\"lat\": -1, \"lon\": 0}\n",
    "assert wrap(-91, 0) == {\"lat\": -89, \"lon\": 180}\n",
    "assert wrap(-181, 0) == {\"lat\": 1, \"lon\": 180}\n",
    "assert wrap(-271, 0) == {\"lat\": 89, \"lon\": 0}\n",
    "assert wrap(-361, 0) == {\"lat\": -1, \"lon\": 0}\n",
    "assert wrap(-631, 0) == {\"lat\": 89, \"lon\": 0}\n",
    "assert wrap(721, 0) == {\"lat\": 1, \"lon\": 0}\n",
    "\n",
    "assert wrap(0, 1) == {\"lat\": 0, \"lon\": 1}\n",
    "assert wrap(0, 181) == {\"lat\": 0, \"lon\": -179}\n",
    "assert wrap(0, 271) == {\"lat\": 0, \"lon\": -89}\n",
    "assert wrap(0, 361) == {\"lat\": 0, \"lon\": 1}\n",
    "assert wrap(0, 631) == {\"lat\": 0, \"lon\": -89}\n",
    "assert wrap(0, 721) == {\"lat\": 0, \"lon\": 1}\n",
    "\n",
    "assert wrap(0, -1) == {\"lat\": 0, \"lon\": -1}\n",
    "assert wrap(0, -181) == {\"lat\": 0, \"lon\": 179}\n",
    "assert wrap(0, -271) == {\"lat\": 0, \"lon\": 89}\n",
    "assert wrap(0, -361) == {\"lat\": 0, \"lon\": -1}\n",
    "assert wrap(0, -631) == {\"lat\": 0, \"lon\": 89}\n",
    "assert wrap(0, -721) == {\"lat\": 0, \"lon\": -1}\n",
    "\n",
    "class color:\n",
    "    PURPLE = '\\033[95m'\n",
    "    CYAN = '\\033[96m'\n",
    "    DARKCYAN = '\\033[36m'\n",
    "    BLUE = '\\033[94m'\n",
    "    GREEN = '\\033[92m'\n",
    "    YELLOW = '\\033[93m'\n",
    "    RED = '\\033[91m'\n",
    "    BOLD = '\\033[1m'\n",
    "    UNDERLINE = '\\033[4m'\n",
    "    END = '\\033[0m'"
   ]
  },
  {
   "cell_type": "code",
   "execution_count": 118,
   "metadata": {},
   "outputs": [],
   "source": [
    "def getRandomCoordinate(minLat = -90, minLong = -180, maxLat = 90, maxLong = 180):\n",
    "    lat = randrange(minLat, maxLat)\n",
    "    lat = round(lat + random(), 5)\n",
    "    long = randrange(minLong, maxLong)\n",
    "    long = round(long + random(), 5)\n",
    "    return [lat, long]\n",
    "\n",
    "def getDistanceInKM(point1, point2):\n",
    "    return distance(point1, point2).km\n",
    "\n",
    "assert getDistanceInKM([40, -105], [0,0]) == 11286.326422073269\n",
    "assert getDistanceInKM([0, 0], [0,0]) == 0"
   ]
  },
  {
   "cell_type": "markdown",
   "metadata": {},
   "source": [
    "## Fuzzing Once"
   ]
  },
  {
   "cell_type": "code",
   "execution_count": 119,
   "metadata": {},
   "outputs": [
    {
     "name": "stdout",
     "output_type": "stream",
     "text": [
      "Mean distance (m): 1003.6238810894358\n",
      "Minimum distance (m): 3.317921428670807\n",
      "\u001b[1m\u001b[92mStd. Dev (m): 353.79806991862193\u001b[0m\n"
     ]
    }
   ],
   "source": [
    "fuzzOneRandomCoords = [getRandomCoordinate() for n in range(100000)]\n",
    "fuzzOneFuzzedCoords = list(map(fuzz(1500), fuzzOneRandomCoords))\n",
    "fuzzOneDistances = []\n",
    "for i in range(len(fuzzOneFuzzedCoords)):\n",
    "    fuzzOneDistances.append(getDistanceInKM(fuzzOneFuzzedCoords[i], fuzzOneRandomCoords[i]))\n",
    "\n",
    "print(\"Mean distance (m): \" + str(statistics.mean(fuzzOneDistances) * 1000))\n",
    "print(\"Minimum distance (m): \" + str(min(fuzzOneDistances) * 1000))\n",
    "print(color.BOLD + color.GREEN + \"Std. Dev (m): \" + str(statistics.stdev(fuzzOneDistances) * 1000) + color.END)"
   ]
  },
  {
   "cell_type": "markdown",
   "metadata": {},
   "source": [
    "If we fuzz with a radius of 1500 meters we can expect an average distance of **1km** with a standard deviation of **~354m**.\n",
    "\n",
    "My next question is what is better, to fuzz once with a large radius, or to fuzz many times with a small radius? Keep in mind that as you fuzz many times you start to emulate a [random walk](https://en.wikipedia.org/wiki/Random_walk) algorithm. This is not exactly what we want as it is computationally expensive. We are after final random points, not their journeys."
   ]
  },
  {
   "cell_type": "markdown",
   "metadata": {},
   "source": [
    "## Fuzzing 300 times"
   ]
  },
  {
   "cell_type": "code",
   "execution_count": 120,
   "metadata": {},
   "outputs": [
    {
     "name": "stdout",
     "output_type": "stream",
     "text": [
      "Mean distance (m): 1087.4650284221862\n",
      "Minimum distance (m): 2.353148807619283\n",
      "Std. Dev (m): 567.1656765997614\n"
     ]
    }
   ],
   "source": [
    "fuzzManyRandomCoords = [getRandomCoordinate() for n in range(100000)]\n",
    "numberOfFuzzing = 300\n",
    "fuzzManyFuzzedCoords = fuzzManyRandomCoords.copy()\n",
    "for i in range(numberOfFuzzing):\n",
    "    fuzzManyFuzzedCoords = list(map(fuzz(100), fuzzManyFuzzedCoords)).copy()\n",
    "\n",
    "fuzzManyDistances = []\n",
    "for i in range(len(fuzzManyFuzzedCoords)):\n",
    "    fuzzManyDistances.append(getDistanceInKM(fuzzManyFuzzedCoords[i], fuzzManyRandomCoords[i]))\n",
    "\n",
    "print(\"Mean distance (m): \" + str(statistics.mean(fuzzManyDistances) * 1000))\n",
    "print(\"Minimum distance (m): \" + str(min(fuzzManyDistances) * 1000))\n",
    "print(\"Std. Dev (m): \" + str(statistics.stdev(fuzzManyDistances) * 1000))"
   ]
  },
  {
   "cell_type": "markdown",
   "metadata": {},
   "source": [
    "By fuzzing by only **100m**, but doing so 300 times to every point, we get a similar level of fuzzing but with a much higher standard deviation. ~This is only running with 1/10 the number of points and is much slower~ This is **much** slower. I think this is good evidence that fuzzing once by a large radius is a better model for randomizing points than many times with a smaller radius."
   ]
  },
  {
   "cell_type": "markdown",
   "metadata": {},
   "source": [
    "## Fuzzing ~10 times"
   ]
  },
  {
   "cell_type": "code",
   "execution_count": 121,
   "metadata": {},
   "outputs": [
    {
     "name": "stdout",
     "output_type": "stream",
     "text": [
      "Mean distance (m): 1096.6078268135834\n",
      "Minimum distance (m): 2.961411226724857\n",
      "Std. Dev (m): 563.606833828889\n"
     ]
    }
   ],
   "source": [
    "fuzz10TimesRandomCoords = [getRandomCoordinate() for n in range(100000)]\n",
    "numberOfFuzzing = 12\n",
    "fuzz10TimesFuzzedCoords = fuzz10TimesRandomCoords.copy()\n",
    "for i in range(numberOfFuzzing):\n",
    "    fuzz10TimesFuzzedCoords = list(map(fuzz(500), fuzz10TimesFuzzedCoords)).copy()\n",
    "\n",
    "fuzz10TimesDistances = []\n",
    "for i in range(len(fuzz10TimesFuzzedCoords)):\n",
    "    fuzz10TimesDistances.append(getDistanceInKM(fuzz10TimesFuzzedCoords[i], fuzz10TimesRandomCoords[i]))\n",
    "\n",
    "print(\"Mean distance (m): \" + str(statistics.mean(fuzz10TimesDistances) * 1000))\n",
    "print(\"Minimum distance (m): \" + str(min(fuzz10TimesDistances) * 1000))\n",
    "print(\"Std. Dev (m): \" + str(statistics.stdev(fuzz10TimesDistances) * 1000))"
   ]
  },
  {
   "cell_type": "markdown",
   "metadata": {},
   "source": [
    "## Truncating to 2 decimal places"
   ]
  },
  {
   "cell_type": "code",
   "execution_count": 122,
   "metadata": {},
   "outputs": [],
   "source": [
    "def truncatePoint(digits = 2):\n",
    "    return lambda x: lambda_truncatePoint(x, digits)\n",
    "\n",
    "def lambda_truncatePoint(point, digits):\n",
    "    stepper = 10.0 ** digits\n",
    "    lat = trunc(stepper * point[0]) / stepper\n",
    "    long = trunc(stepper * point[1]) / stepper\n",
    "    return [lat, long]\n",
    "\n",
    "assert truncatePoint(2)([0.1134, 38.4328946792]) == [0.11, 38.43]\n",
    "assert truncatePoint(1)([-0.99, -100.92]) == [-0.9, -100.9]\n",
    "assert truncatePoint(1.5)([-1, 1]) == [-0.9803060746521977, 0.9803060746521977]\n",
    "assert truncatePoint(-1)([11.1134, 38.4328946792]) == [10.0, 30.0]"
   ]
  },
  {
   "cell_type": "code",
   "execution_count": 123,
   "metadata": {},
   "outputs": [
    {
     "name": "stdout",
     "output_type": "stream",
     "text": [
      "Mean distance (m): 720.3727100111274\n",
      "Minimum distance (m): 1.024620183161797\n",
      "Std. Dev (m): 316.0232844553472\n"
     ]
    }
   ],
   "source": [
    "truncRandomCoords = [getRandomCoordinate() for n in range(100000)]\n",
    "truncFuzzedCoords = list(map(truncatePoint(2), truncRandomCoords))\n",
    "\n",
    "truncDistances = []\n",
    "for i in range(len(truncFuzzedCoords)):\n",
    "    truncDistances.append(getDistanceInKM(truncFuzzedCoords[i], truncRandomCoords[i]))\n",
    "\n",
    "print(\"Mean distance (m): \" + str(statistics.mean(truncDistances) * 1000))\n",
    "print(\"Minimum distance (m): \" + str(min(truncDistances) * 1000))\n",
    "print(\"Std. Dev (m): \" + str(statistics.stdev(truncDistances) * 1000))"
   ]
  },
  {
   "cell_type": "markdown",
   "metadata": {},
   "source": [
    "## \"Truncating\" to ~1.8 decimal places\n",
    "I know this is crazy but its a good approximation for how we could truncate and get close to a 1km average distance"
   ]
  },
  {
   "cell_type": "code",
   "execution_count": 124,
   "metadata": {},
   "outputs": [
    {
     "name": "stdout",
     "output_type": "stream",
     "text": [
      "Mean distance (m): 1018.7441476399115\n",
      "Minimum distance (m): 3.88678228542072\n",
      "Std. Dev (m): 445.7669590434057\n"
     ]
    }
   ],
   "source": [
    "truncBenchRandomCoords = [getRandomCoordinate() for n in range(100000)]\n",
    "truncBenchFuzzedCoords = list(map(truncatePoint(1.85), truncBenchRandomCoords))\n",
    "\n",
    "truncBenchDistances = []\n",
    "for i in range(len(truncBenchFuzzedCoords)):\n",
    "    truncBenchDistances.append(getDistanceInKM(truncBenchFuzzedCoords[i], truncBenchRandomCoords[i]))\n",
    "\n",
    "print(\"Mean distance (m): \" + str(statistics.mean(truncBenchDistances) * 1000))\n",
    "print(\"Minimum distance (m): \" + str(min(truncBenchDistances) * 1000))\n",
    "print(\"Std. Dev (m): \" + str(statistics.stdev(truncBenchDistances) * 1000))"
   ]
  },
  {
   "cell_type": "markdown",
   "metadata": {},
   "source": [
    "## Looking at the data\n",
    "\n",
    "Below are some visualizations meant to help describe what is happening with these different approaches. The key takeaways are:\n",
    "\n",
    "- Fuzzing once does not give a uniform distribution of distances. Points are more likely to fall near the radius than at the center\n",
    "- Fuzzing many times, even if as few as 10 times, gives a much more uniform distribution. This is good as it makes points less predictable, and there is less of a \"hard-stop\" or an outer ring to look for.\n",
    "- Truncating leaves more points closer to its origin than any of the fuzzing techniques"
   ]
  },
  {
   "cell_type": "code",
   "execution_count": 130,
   "metadata": {
    "scrolled": false
   },
   "outputs": [
    {
     "data": {
      "image/png": "[encoded data removed]",
      "text/plain": [
       "<Figure size 720x576 with 1 Axes>"
      ]
     },
     "metadata": {
      "needs_background": "light"
     },
     "output_type": "display_data"
    },
    {
     "data": {
      "image/png": "[encoded data removed]",
      "text/plain": [
       "<Figure size 720x576 with 1 Axes>"
      ]
     },
     "metadata": {
      "needs_background": "light"
     },
     "output_type": "display_data"
    }
   ],
   "source": [
    "import matplotlib.pyplot as plt\n",
    "\n",
    "assert len(fuzzOneDistances) == len(fuzz10TimesDistances) == len(fuzzManyDistances) == len(truncDistances) == len(truncBenchDistances)\n",
    "\n",
    "plt.figure(figsize=(10,8))\n",
    "plt.hist(fuzzManyDistances, bins=100, alpha=0.5, label=\"Fuzz 300 Times\")\n",
    "plt.hist(fuzz10TimesDistances, bins=100, alpha=0.5, label=\"Fuzz 10 Times\")\n",
    "plt.hist(fuzzOneDistances, bins=100, alpha=0.9, label=\"Fuzz Once\")\n",
    "\n",
    "plt.title(\"Distance from original location by fuzzing\")\n",
    "plt.xlabel(\"Distance (km)\", size=14)\n",
    "plt.ylabel(\"Count\", size=14)\n",
    "plt.legend(loc='upper right')\n",
    "plt.show()\n",
    "\n",
    "plt.figure(figsize=(10,8))\n",
    "plt.hist(truncDistances, bins=100, alpha=0.5, label=\"Truncate 2 Dec.\")\n",
    "plt.hist(truncBenchDistances, bins=100, alpha=0.5, label=\"Truncate 1.8 Dec.\")\n",
    "plt.title(\"Distance from original location by truncating\")\n",
    "plt.xlabel(\"Distance (km)\", size=14)\n",
    "plt.ylabel(\"Count\", size=14)\n",
    "plt.legend(loc='upper right')\n",
    "plt.show()"
   ]
  },
  {
   "cell_type": "code",
   "execution_count": 126,
   "metadata": {
    "scrolled": true
   },
   "outputs": [
    {
     "name": "stdout",
     "output_type": "stream",
     "text": [
      "Percent less than 100m away from original\n",
      "Fuzz once:  0.42700000000000005 %\n",
      "Fuzz 10 times:  0.639 %\n",
      "Fuzz 300 times:  0.6689999999999999 %\n",
      "Trunc to 2 dec places:  1.7930000000000001 %\n",
      "Trunc to 1.8 dec places:  0.9289999999999999 %\n",
      "\n",
      "Percent less than 300m away from original\n",
      "Fuzz once:  3.8289999999999997 %\n",
      "Fuzz 10 times:  5.607 %\n",
      "Fuzz 300 times:  5.753 %\n",
      "Trunc to 2 dec places:  11.647 %\n",
      "Trunc to 1.8 dec places:  6.4079999999999995 %\n",
      "\n",
      "Percent less than 500m away from original\n",
      "Fuzz once:  10.865 %\n",
      "Fuzz 10 times:  14.734 %\n",
      "Fuzz 300 times:  15.22 %\n",
      "Trunc to 2 dec places:  27.025 %\n",
      "Trunc to 1.8 dec places:  15.15 %\n",
      "\n",
      "Percent less than 1000m away from original\n",
      "Fuzz once:  44.193 %\n",
      "Fuzz 10 times:  47.558 %\n",
      "Fuzz 300 times:  48.551 %\n",
      "\u001b[1m\u001b[91mTrunc to 2 dec places:  77.93299999999999 %\u001b[0m\n",
      "Trunc to 1.8 dec places:  46.663 %\n"
     ]
    }
   ],
   "source": [
    "def lessThanDistace(distance):\n",
    "    return lambda x: x*1000 < distance\n",
    "\n",
    "print(\"Percent less than 100m away from original\")\n",
    "print(\"Fuzz once: \", str(len(list(filter(lessThanDistace(100), fuzzOneDistances))) / len(fuzzOneDistances) * 100), \"%\")\n",
    "print(\"Fuzz 10 times: \", str(len(list(filter(lessThanDistace(100), fuzz10TimesDistances))) / len(fuzz10TimesDistances) * 100), \"%\")\n",
    "print(\"Fuzz 300 times: \", str(len(list(filter(lessThanDistace(100), fuzzManyDistances))) / len(fuzzManyDistances) * 100), \"%\")\n",
    "print(\"Trunc to 2 dec places: \", str(len(list(filter(lessThanDistace(100), truncDistances))) / len(truncDistances) * 100), \"%\")\n",
    "print(\"Trunc to 1.8 dec places: \", str(len(list(filter(lessThanDistace(100), truncBenchDistances))) / len(truncBenchDistances) * 100), \"%\")\n",
    "print()\n",
    "print(\"Percent less than 300m away from original\")\n",
    "print(\"Fuzz once: \", str(len(list(filter(lessThanDistace(300), fuzzOneDistances))) / len(fuzzOneDistances) * 100), \"%\")\n",
    "print(\"Fuzz 10 times: \", str(len(list(filter(lessThanDistace(300), fuzz10TimesDistances))) / len(fuzz10TimesDistances) * 100), \"%\")\n",
    "print(\"Fuzz 300 times: \", str(len(list(filter(lessThanDistace(300), fuzzManyDistances))) / len(fuzzManyDistances) * 100), \"%\")\n",
    "print(\"Trunc to 2 dec places: \", str(len(list(filter(lessThanDistace(300), truncDistances))) / len(truncDistances) * 100), \"%\")\n",
    "print(\"Trunc to 1.8 dec places: \", str(len(list(filter(lessThanDistace(300), truncBenchDistances))) / len(truncBenchDistances) * 100), \"%\")\n",
    "print()\n",
    "print(\"Percent less than 500m away from original\")\n",
    "print(\"Fuzz once: \", str(len(list(filter(lessThanDistace(500), fuzzOneDistances))) / len(fuzzOneDistances) * 100), \"%\")\n",
    "print(\"Fuzz 10 times: \", str(len(list(filter(lessThanDistace(500), fuzz10TimesDistances))) / len(fuzz10TimesDistances) * 100), \"%\")\n",
    "print(\"Fuzz 300 times: \", str(len(list(filter(lessThanDistace(500), fuzzManyDistances))) / len(fuzzManyDistances) * 100), \"%\")\n",
    "print(\"Trunc to 2 dec places: \", str(len(list(filter(lessThanDistace(500), truncDistances))) / len(truncDistances) * 100), \"%\")\n",
    "print(\"Trunc to 1.8 dec places: \", str(len(list(filter(lessThanDistace(500), truncBenchDistances))) / len(truncBenchDistances) * 100), \"%\")\n",
    "print()\n",
    "print(\"Percent less than 1000m away from original\")\n",
    "print(\"Fuzz once: \", str(len(list(filter(lessThanDistace(1000), fuzzOneDistances))) / len(fuzzOneDistances) * 100), \"%\")\n",
    "print(\"Fuzz 10 times: \", str(len(list(filter(lessThanDistace(1000), fuzz10TimesDistances))) / len(fuzz10TimesDistances) * 100), \"%\")\n",
    "print(\"Fuzz 300 times: \", str(len(list(filter(lessThanDistace(1000), fuzzManyDistances))) / len(fuzzManyDistances) * 100), \"%\")\n",
    "print(color.BOLD + color.RED + \"Trunc to 2 dec places: \", str(len(list(filter(lessThanDistace(1000), truncDistances))) / len(truncDistances) * 100), \"%\" + color.END)\n",
    "print(\"Trunc to 1.8 dec places: \", str(len(list(filter(lessThanDistace(1000), truncBenchDistances))) / len(truncBenchDistances) * 100), \"%\")\n",
    "\n",
    "# fuzzOneDistances, fuzzManyDistances, truncDistances, truncBenchDistances"
   ]
  }
 ],
 "metadata": {
  "kernelspec": {
   "display_name": "Python 3",
   "language": "python",
   "name": "python3"
  },
  "language_info": {
   "codemirror_mode": {
    "name": "ipython",
    "version": 3
   },
   "file_extension": ".py",
   "mimetype": "text/x-python",
   "name": "python",
   "nbconvert_exporter": "python",
   "pygments_lexer": "ipython3",
   "version": "3.9.0"
  }
 },
 "nbformat": 4,
 "nbformat_minor": 4
}
